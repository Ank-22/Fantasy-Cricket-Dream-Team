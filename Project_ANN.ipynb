{
 "cells": [
  {
   "cell_type": "code",
   "execution_count": 1,
   "metadata": {},
   "outputs": [
    {
     "name": "stderr",
     "output_type": "stream",
     "text": [
      "/usr/lib/python3/dist-packages/h5py/__init__.py:36: FutureWarning: Conversion of the second argument of issubdtype from `float` to `np.floating` is deprecated. In future, it will be treated as `np.float64 == np.dtype(float).type`.\n",
      "  from ._conv import register_converters as _register_converters\n",
      "Using TensorFlow backend.\n",
      "/usr/local/lib/python3.6/dist-packages/tensorflow/python/framework/dtypes.py:516: FutureWarning: Passing (type, 1) or '1type' as a synonym of type is deprecated; in a future version of numpy, it will be understood as (type, (1,)) / '(1,)type'.\n",
      "  _np_qint8 = np.dtype([(\"qint8\", np.int8, 1)])\n",
      "/usr/local/lib/python3.6/dist-packages/tensorflow/python/framework/dtypes.py:517: FutureWarning: Passing (type, 1) or '1type' as a synonym of type is deprecated; in a future version of numpy, it will be understood as (type, (1,)) / '(1,)type'.\n",
      "  _np_quint8 = np.dtype([(\"quint8\", np.uint8, 1)])\n",
      "/usr/local/lib/python3.6/dist-packages/tensorflow/python/framework/dtypes.py:518: FutureWarning: Passing (type, 1) or '1type' as a synonym of type is deprecated; in a future version of numpy, it will be understood as (type, (1,)) / '(1,)type'.\n",
      "  _np_qint16 = np.dtype([(\"qint16\", np.int16, 1)])\n",
      "/usr/local/lib/python3.6/dist-packages/tensorflow/python/framework/dtypes.py:519: FutureWarning: Passing (type, 1) or '1type' as a synonym of type is deprecated; in a future version of numpy, it will be understood as (type, (1,)) / '(1,)type'.\n",
      "  _np_quint16 = np.dtype([(\"quint16\", np.uint16, 1)])\n",
      "/usr/local/lib/python3.6/dist-packages/tensorflow/python/framework/dtypes.py:520: FutureWarning: Passing (type, 1) or '1type' as a synonym of type is deprecated; in a future version of numpy, it will be understood as (type, (1,)) / '(1,)type'.\n",
      "  _np_qint32 = np.dtype([(\"qint32\", np.int32, 1)])\n",
      "/usr/local/lib/python3.6/dist-packages/tensorflow/python/framework/dtypes.py:525: FutureWarning: Passing (type, 1) or '1type' as a synonym of type is deprecated; in a future version of numpy, it will be understood as (type, (1,)) / '(1,)type'.\n",
      "  np_resource = np.dtype([(\"resource\", np.ubyte, 1)])\n",
      "/usr/local/lib/python3.6/dist-packages/tensorboard/compat/tensorflow_stub/dtypes.py:541: FutureWarning: Passing (type, 1) or '1type' as a synonym of type is deprecated; in a future version of numpy, it will be understood as (type, (1,)) / '(1,)type'.\n",
      "  _np_qint8 = np.dtype([(\"qint8\", np.int8, 1)])\n",
      "/usr/local/lib/python3.6/dist-packages/tensorboard/compat/tensorflow_stub/dtypes.py:542: FutureWarning: Passing (type, 1) or '1type' as a synonym of type is deprecated; in a future version of numpy, it will be understood as (type, (1,)) / '(1,)type'.\n",
      "  _np_quint8 = np.dtype([(\"quint8\", np.uint8, 1)])\n",
      "/usr/local/lib/python3.6/dist-packages/tensorboard/compat/tensorflow_stub/dtypes.py:543: FutureWarning: Passing (type, 1) or '1type' as a synonym of type is deprecated; in a future version of numpy, it will be understood as (type, (1,)) / '(1,)type'.\n",
      "  _np_qint16 = np.dtype([(\"qint16\", np.int16, 1)])\n",
      "/usr/local/lib/python3.6/dist-packages/tensorboard/compat/tensorflow_stub/dtypes.py:544: FutureWarning: Passing (type, 1) or '1type' as a synonym of type is deprecated; in a future version of numpy, it will be understood as (type, (1,)) / '(1,)type'.\n",
      "  _np_quint16 = np.dtype([(\"quint16\", np.uint16, 1)])\n",
      "/usr/local/lib/python3.6/dist-packages/tensorboard/compat/tensorflow_stub/dtypes.py:545: FutureWarning: Passing (type, 1) or '1type' as a synonym of type is deprecated; in a future version of numpy, it will be understood as (type, (1,)) / '(1,)type'.\n",
      "  _np_qint32 = np.dtype([(\"qint32\", np.int32, 1)])\n",
      "/usr/local/lib/python3.6/dist-packages/tensorboard/compat/tensorflow_stub/dtypes.py:550: FutureWarning: Passing (type, 1) or '1type' as a synonym of type is deprecated; in a future version of numpy, it will be understood as (type, (1,)) / '(1,)type'.\n",
      "  np_resource = np.dtype([(\"resource\", np.ubyte, 1)])\n"
     ]
    }
   ],
   "source": [
    "import keras\n",
    "import numpy as np\n",
    "import csv\n",
    "import pandas as pd\n",
    "import matplotlib.pyplot as plt\n",
    "from keras.models import load_model\n",
    "from keras.models import Model\n",
    "from keras.optimizers import Adam\n",
    "from sklearn.model_selection import train_test_split\n",
    "from pandas import read_csv\n",
    "from keras.models import Sequential\n",
    "from keras.layers import Dense\n",
    "from keras.wrappers.scikit_learn import KerasRegressor\n",
    "from sklearn.model_selection import cross_val_score\n",
    "from sklearn.model_selection import KFold\n"
   ]
  },
  {
   "cell_type": "code",
   "execution_count": 2,
   "metadata": {},
   "outputs": [],
   "source": [
    "Batsman_train = pd.read_csv('Bat_Trainset.csv', header = 0)\n",
    "Bowler_train = pd.read_csv('Bowl_Trainset.csv', header = 0)\n",
    "\n",
    "\n",
    "Bowler_train['Opp_SR'].replace([np.inf,-np.inf],np.nan)\n",
    "Bowler_train['Opp_avg'].replace([np.inf,-np.inf],np.nan)\n",
    "Bowler_train['Ven_SR'].replace([np.inf,-np.inf],np.nan)\n",
    "Bowler_train['Ven_avg'].replace([np.inf,-np.inf],np.nan)\n",
    "\n",
    "\n",
    "\n",
    "Bowler_train['Opp_SR'].fillna(0, inplace = True)\n",
    "Bowler_train['Opp_avg'].fillna(0, inplace = True)\n",
    "Bowler_train['Ven_SR'].fillna(0, inplace = True)\n",
    "Bowler_train['Ven_avg'].fillna(0, inplace = True)"
   ]
  },
  {
   "cell_type": "code",
   "execution_count": 3,
   "metadata": {},
   "outputs": [
    {
     "data": {
      "text/plain": [
       "0       17\n",
       "1       55\n",
       "2       71\n",
       "3        0\n",
       "4       50\n",
       "        ..\n",
       "1125    50\n",
       "1126    33\n",
       "1127     0\n",
       "1128    25\n",
       "1129    82\n",
       "Name: Performance, Length: 1130, dtype: int64"
      ]
     },
     "execution_count": 3,
     "metadata": {},
     "output_type": "execute_result"
    }
   ],
   "source": [
    "x = Batsman_train.iloc[:,3:-1]\n",
    "y = Batsman_train.iloc[:,-1]\n",
    "\n",
    "x_train, x_test, y_train, y_test = train_test_split(x, y, test_size = 0.25, random_state=42, shuffle=True)\n",
    "x\n",
    "y"
   ]
  },
  {
   "cell_type": "code",
   "execution_count": 4,
   "metadata": {},
   "outputs": [
    {
     "name": "stdout",
     "output_type": "stream",
     "text": [
      "WARNING:tensorflow:From /usr/local/lib/python3.6/dist-packages/keras/backend/tensorflow_backend.py:422: The name tf.global_variables is deprecated. Please use tf.compat.v1.global_variables instead.\n",
      "\n",
      "Baseline: -957.30 (429.99) MSE\n"
     ]
    }
   ],
   "source": [
    "def baseline_model():\n",
    "    # create model\n",
    "    model = Sequential()\n",
    "    model.add(Dense(9, input_dim=9, kernel_initializer='normal', activation='relu'))\n",
    "    model.add(Dense(30, input_dim=30, kernel_initializer = 'normal', activation='relu'))\n",
    "    model.add(Dense(50, input_dim=50, kernel_initializer = 'normal', activation='relu'))\n",
    "    model.add(Dense(9, input_dim=30, kernel_initializer = 'normal', activation='relu'))\n",
    "    model.add(Dense(1, kernel_initializer='normal'))\n",
    "    # Compile model\n",
    "    model.compile(loss='mean_squared_error', optimizer='adam')\n",
    "    #print(model)\n",
    "    return model\n",
    "\n",
    "MODEL = baseline_model\n",
    "# evaluate model\n",
    "estimator = KerasRegressor(build_fn=MODEL, epochs=40, batch_size=5, verbose=0)\n",
    "kfold = KFold(n_splits=12)\n",
    "results = cross_val_score(estimator, x, y, cv=kfold)\n",
    "print(\"Baseline: %.2f (%.2f) MSE\" % (results.mean(), results.std()))"
   ]
  },
  {
   "cell_type": "code",
   "execution_count": 5,
   "metadata": {},
   "outputs": [
    {
     "name": "stdout",
     "output_type": "stream",
     "text": [
      "Baseline: nan (nan) MSE\n"
     ]
    }
   ],
   "source": [
    "X = Bowler_train.iloc[:,3:-1]\n",
    "Y = Bowler_train.iloc[:,-1]\n",
    "\n",
    "X_train, X_test, Y_train, Y_test = train_test_split(X, Y, test_size = 0.25, random_state=42, shuffle=True)\n",
    "\n",
    "\n",
    "\n",
    "def baseline_model2():\n",
    "    # create model\n",
    "    model = Sequential()\n",
    "    model.add(Dense(9, input_dim=9, kernel_initializer='normal', activation='relu'))\n",
    "    model.add(Dense(30, input_dim=30, kernel_initializer = 'normal', activation='relu'))\n",
    "    model.add(Dense(50, input_dim=50, kernel_initializer = 'normal', activation='relu'))\n",
    "    model.add(Dense(9, input_dim=30, kernel_initializer = 'normal', activation='relu'))\n",
    "    model.add(Dense(1, kernel_initializer='normal'))\n",
    "    # Compile model\n",
    "    model.compile(loss='mean_squared_error', optimizer='adam')\n",
    "    #print(model)\n",
    "    return model\n",
    "\n",
    "BOWLER_MODEL = baseline_model2\n",
    "# evaluate model\n"
   ]
  },
  {
   "cell_type": "code",
   "execution_count": 6,
   "metadata": {},
   "outputs": [
    {
     "name": "stdout",
     "output_type": "stream",
     "text": [
      "Baseline: nan (nan) MSE\n"
     ]
    }
   ],
   "source": [
    "estimator = KerasRegressor(build_fn=BOWLER_MODEL, epochs=40, batch_size=5, verbose=0)\n",
    "kfold = KFold(n_splits=12)\n",
    "Results_bowling = cross_val_score(estimator, X, Y, cv=kfold)\n",
    "print(\"Baseline: %.2f (%.2f) MSE\" % (Results_bowling.mean(), Results_bowling.std()))"
   ]
  },
  {
   "cell_type": "code",
   "execution_count": null,
   "metadata": {},
   "outputs": [
    {
     "name": "stdout",
     "output_type": "stream",
     "text": [
      "Enter the team1 name : England\n",
      "Enter the team2 name : India\n"
     ]
    }
   ],
   "source": [
    "def input_call():\n",
    "    f = open('./input_data_1.csv','w')\n",
    "    writer = csv.DictWriter(f,fieldnames=['NAME','OPPONENT','VENUE'])\n",
    "    writer.writeheader()\n",
    "    f.close()\n",
    "    input_list_team1=[]\n",
    "    input_list_team2=[]\n",
    "    input_list=[]\n",
    "    in_team1=input(\"Enter the team1 name : \")\n",
    "    in_team2=input(\"Enter the team2 name : \")\n",
    "    in_venue=input(\"Enter the venue : \")\n",
    "    print(\"Plz enter the players playing today for \", in_team1)\n",
    "    for i in range(11):\n",
    "        temp=input(\"Enter player : \")\n",
    "        input_list.append(temp)\n",
    "        input_list_team1.append(temp)\n",
    "        input_fields=pd.DataFrame({'NAME':[temp] ,'OPPONENT':[in_team2],'VENUE':[in_venue]})\n",
    "        with open('./input_data_1.csv','a') as bd:\n",
    "            input_fields.to_csv(bd,header=False,index=False)\n",
    "    print(\"Plz enter the players playing today for \", in_team2)\n",
    "    for i in range(11):\n",
    "        temp=input(\"Enter player : \")\n",
    "        input_list.append(temp)\n",
    "        input_list_team2.append(temp)    \n",
    "        input_fields=pd.DataFrame({'NAME':[temp] ,'OPPONENT':[in_team1],'VENUE':[in_venue]})\n",
    "        with open('./input_data_1.csv','a') as bd:\n",
    "            input_fields.to_csv(bd,header=False,index=False)\n",
    "        \n",
    "\n",
    "input_call()"
   ]
  },
  {
   "cell_type": "code",
   "execution_count": null,
   "metadata": {},
   "outputs": [],
   "source": [
    "x_train"
   ]
  },
  {
   "cell_type": "code",
   "execution_count": null,
   "metadata": {},
   "outputs": [],
   "source": [
    "Input = pd.read_csv('input_data_1.csv', header = 0)\n",
    "data_ref=pd.read_csv('Bat_Trainset.csv',header =0)\n",
    "data_ref"
   ]
  },
  {
   "cell_type": "code",
   "execution_count": null,
   "metadata": {},
   "outputs": [],
   "source": [
    "a=int(Input['NAME'].count())\n",
    "cnt=[]\n",
    "for i in range (a):\n",
    "    temp = data_ref[data_ref.player == Input['NAME'][i]]\n",
    "    temp = temp[temp.Opponent == Input['OPPONENT'][i]]\n",
    "    temp = temp[temp.Venue == Input['VENUE'][i]]\n",
    "    if (temp.empty == False ):\n",
    "            temp=temp.drop(['player','Venue','Opponent'],axis = 1)\n",
    "            cnt.append(temp)"
   ]
  },
  {
   "cell_type": "code",
   "execution_count": null,
   "metadata": {},
   "outputs": [],
   "source": [
    "X = cnt[0].iloc[:, :-1]\n",
    "Y = cnt[0].iloc[:, -1]"
   ]
  },
  {
   "cell_type": "code",
   "execution_count": null,
   "metadata": {},
   "outputs": [],
   "source": [
    "prediction = model.predict(X)\n",
    "prediction"
   ]
  }
 ],
 "metadata": {
  "kernelspec": {
   "display_name": "Python 3",
   "language": "python",
   "name": "python3"
  },
  "language_info": {
   "codemirror_mode": {
    "name": "ipython",
    "version": 3
   },
   "file_extension": ".py",
   "mimetype": "text/x-python",
   "name": "python",
   "nbconvert_exporter": "python",
   "pygments_lexer": "ipython3",
   "version": "3.6.9"
  }
 },
 "nbformat": 4,
 "nbformat_minor": 2
}
